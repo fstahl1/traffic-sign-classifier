{
 "cells": [
  {
   "cell_type": "markdown",
   "metadata": {},
   "source": [
    "# Self-Driving Car Engineer Nanodegree\n",
    "\n",
    "## Deep Learning\n",
    "\n",
    "## Project: Build a Traffic Sign Recognition Classifier\n",
    "\n",
    "In this notebook, a template is provided for you to implement your functionality in stages, which is required to successfully complete this project. If additional code is required that cannot be included in the notebook, be sure that the Python code is successfully imported and included in your submission if necessary. \n",
    "\n",
    "> **Note**: Once you have completed all of the code implementations, you need to finalize your work by exporting the iPython Notebook as an HTML document. Before exporting the notebook to html, all of the code cells need to have been run so that reviewers can see the final implementation and output. You can then export the notebook by using the menu above and navigating to  \\n\",\n",
    "    \"**File -> Download as -> HTML (.html)**. Include the finished document along with this notebook as your submission. \n",
    "\n",
    "In addition to implementing code, there is a writeup to complete. The writeup should be completed in a separate file, which can be either a markdown file or a pdf document. There is a [write up template](https://github.com/udacity/CarND-Traffic-Sign-Classifier-Project/blob/master/writeup_template.md) that can be used to guide the writing process. Completing the code template and writeup template will cover all of the [rubric points](https://review.udacity.com/#!/rubrics/481/view) for this project.\n",
    "\n",
    "The [rubric](https://review.udacity.com/#!/rubrics/481/view) contains \"Stand Out Suggestions\" for enhancing the project beyond the minimum requirements. The stand out suggestions are optional. If you decide to pursue the \"stand out suggestions\", you can include the code in this Ipython notebook and also discuss the results in the writeup file.\n",
    "\n",
    "\n",
    ">**Note:** Code and Markdown cells can be executed using the **Shift + Enter** keyboard shortcut. In addition, Markdown cells can be edited by typically double-clicking the cell to enter edit mode."
   ]
  },
  {
   "cell_type": "markdown",
   "metadata": {},
   "source": [
    "---\n",
    "## Step 0: Load The Data"
   ]
  },
  {
   "cell_type": "code",
   "execution_count": 1,
   "metadata": {},
   "outputs": [],
   "source": [
    "# Load pickled data\n",
    "import pickle\n",
    "\n",
    "# TODO: Fill this in based on where you saved the training and testing data\n",
    "\n",
    "training_file = \"../traffic-signs-data/train.p\"\n",
    "validation_file = \"../traffic-signs-data/valid.p\"\n",
    "testing_file = \"../traffic-signs-data/test.p\"\n",
    "\n",
    "with open(training_file, mode='rb') as f:\n",
    "    train = pickle.load(f)\n",
    "with open(validation_file, mode='rb') as f:\n",
    "    valid = pickle.load(f)\n",
    "with open(testing_file, mode='rb') as f:\n",
    "    test = pickle.load(f)\n",
    "    \n",
    "X_train, y_train = train['features'], train['labels']\n",
    "X_valid, y_valid = valid['features'], valid['labels']\n",
    "X_test, y_test = test['features'], test['labels']"
   ]
  },
  {
   "cell_type": "markdown",
   "metadata": {},
   "source": [
    "---\n",
    "\n",
    "## Step 1: Dataset Summary & Exploration\n",
    "\n",
    "The pickled data is a dictionary with 4 key/value pairs:\n",
    "\n",
    "- `'features'` is a 4D array containing raw pixel data of the traffic sign images, (num examples, width, height, channels).\n",
    "- `'labels'` is a 1D array containing the label/class id of the traffic sign. The file `signnames.csv` contains id -> name mappings for each id.\n",
    "- `'sizes'` is a list containing tuples, (width, height) representing the original width and height the image.\n",
    "- `'coords'` is a list containing tuples, (x1, y1, x2, y2) representing coordinates of a bounding box around the sign in the image. **THESE COORDINATES ASSUME THE ORIGINAL IMAGE. THE PICKLED DATA CONTAINS RESIZED VERSIONS (32 by 32) OF THESE IMAGES**\n",
    "\n",
    "Complete the basic data summary below. Use python, numpy and/or pandas methods to calculate the data summary rather than hard coding the results. For example, the [pandas shape method](http://pandas.pydata.org/pandas-docs/stable/generated/pandas.DataFrame.shape.html) might be useful for calculating some of the summary results. "
   ]
  },
  {
   "cell_type": "markdown",
   "metadata": {},
   "source": [
    "### Provide a Basic Summary of the Data Set Using Python, Numpy and/or Pandas"
   ]
  },
  {
   "cell_type": "code",
   "execution_count": 2,
   "metadata": {},
   "outputs": [
    {
     "name": "stdout",
     "output_type": "stream",
     "text": [
      "Number of training examples = 34799\n",
      "Number of validation examples = 4410\n",
      "Number of testing examples = 12630\n",
      "Image data shape = (32, 32, 3)\n",
      "Number of classes = 43\n"
     ]
    }
   ],
   "source": [
    "import numpy as np\n",
    "\n",
    "### Replace each question mark with the appropriate value. \n",
    "### Use python, pandas or numpy methods rather than hard coding the results\n",
    "\n",
    "# TODO: Number of training examples\n",
    "n_train = len(X_train)\n",
    "\n",
    "# TODO: Number of validation examples\n",
    "n_valid = len(X_valid)\n",
    "\n",
    "# TODO: Number of testing examples.\n",
    "n_test = len(X_test)\n",
    "\n",
    "# TODO: What's the shape of an traffic sign image?\n",
    "image_shape = X_test.shape[1:]\n",
    "\n",
    "# TODO: How many unique classes/labels there are in the dataset.\n",
    "n_classes = np.max(y_test)+1\n",
    "\n",
    "print(\"Number of training examples =\", n_train)\n",
    "print(\"Number of validation examples =\", n_valid)\n",
    "print(\"Number of testing examples =\", n_test)\n",
    "print(\"Image data shape =\", image_shape)\n",
    "print(\"Number of classes =\", n_classes)"
   ]
  },
  {
   "cell_type": "markdown",
   "metadata": {},
   "source": [
    "### Include an exploratory visualization of the dataset"
   ]
  },
  {
   "cell_type": "markdown",
   "metadata": {},
   "source": [
    "Visualize the German Traffic Signs Dataset using the pickled file(s). This is open ended, suggestions include: plotting traffic sign images, plotting the count of each sign, etc. \n",
    "\n",
    "The [Matplotlib](http://matplotlib.org/) [examples](http://matplotlib.org/examples/index.html) and [gallery](http://matplotlib.org/gallery.html) pages are a great resource for doing visualizations in Python.\n",
    "\n",
    "**NOTE:** It's recommended you start with something simple first. If you wish to do more, come back to it after you've completed the rest of the sections. It can be interesting to look at the distribution of classes in the training, validation and test set. Is the distribution the same? Are there more examples of some classes than others?"
   ]
  },
  {
   "cell_type": "code",
   "execution_count": 4,
   "metadata": {},
   "outputs": [],
   "source": [
    "### Data exploration visualization code goes here.\n",
    "### Feel free to use as many code cells as needed.\n",
    "import matplotlib.pyplot as plt\n",
    "# Visualizations will be shown in the notebook.\n",
    "%matplotlib inline"
   ]
  },
  {
   "cell_type": "code",
   "execution_count": 5,
   "metadata": {},
   "outputs": [
    {
     "data": {
      "text/plain": [
       "[<matplotlib.lines.Line2D at 0x7fc75fdd1978>]"
      ]
     },
     "execution_count": 5,
     "metadata": {},
     "output_type": "execute_result"
    },
    {
     "data": {
      "image/png": "[encoded data removed]",
      "text/plain": [
       "<matplotlib.figure.Figure at 0x7fc7600c1d68>"
      ]
     },
     "metadata": {
      "needs_background": "light"
     },
     "output_type": "display_data"
    }
   ],
   "source": [
    "plt.plot(y_train)"
   ]
  },
  {
   "cell_type": "code",
   "execution_count": 4,
   "metadata": {},
   "outputs": [],
   "source": [
    "explore_data = False"
   ]
  },
  {
   "cell_type": "markdown",
   "metadata": {},
   "source": [
    "Plot traffic sign images"
   ]
  },
  {
   "cell_type": "code",
   "execution_count": 5,
   "metadata": {
    "scrolled": false
   },
   "outputs": [],
   "source": [
    "if explore_data:\n",
    "    n_rows = n_classes\n",
    "    n_cols = 10\n",
    "\n",
    "    number_of_images = n_rows*n_cols\n",
    "    figure, axis = plt.subplots(n_rows, n_cols, figsize=(9, 42))\n",
    "    # figure.subplots_adjust(hspace = 1, wspace = .1)\n",
    "\n",
    "    for i_row in range(n_rows):\n",
    "        idx_spc = np.where(y_train==i_row)\n",
    "        for i_col in range(n_cols):\n",
    "            idx = np.random.randint(idx_spc[0][0],idx_spc[0][-1])\n",
    "            image = X_train[idx,:,:,:]\n",
    "            axis[i_row,i_col].axis('off')\n",
    "            axis[i_row,i_col].imshow(image)"
   ]
  },
  {
   "cell_type": "markdown",
   "metadata": {},
   "source": [
    "Plot counts"
   ]
  },
  {
   "cell_type": "code",
   "execution_count": 6,
   "metadata": {
    "scrolled": false
   },
   "outputs": [
    {
     "data": {
      "image/png": "[encoded data removed]",
      "text/plain": [
       "<matplotlib.figure.Figure at 0x7f1e32ff7dd8>"
      ]
     },
     "metadata": {
      "needs_background": "light"
     },
     "output_type": "display_data"
    },
    {
     "data": {
      "image/png": "[encoded data removed]",
      "text/plain": [
       "<matplotlib.figure.Figure at 0x7f1e04c587b8>"
      ]
     },
     "metadata": {
      "needs_background": "light"
     },
     "output_type": "display_data"
    },
    {
     "data": {
      "image/png": "[encoded data removed]",
      "text/plain": [
       "<matplotlib.figure.Figure at 0x7f1e04a66668>"
      ]
     },
     "metadata": {
      "needs_background": "light"
     },
     "output_type": "display_data"
    }
   ],
   "source": [
    "import seaborn as sns\n",
    "\n",
    "fig, ax = plt.subplots(figsize=(10,6))\n",
    "p = sns.countplot(y_train)\n",
    "plt.title('Training')\n",
    "# # p.set_xticklabels(rotation=90)\n",
    "plt.show()\n",
    "\n",
    "fig, ax = plt.subplots(figsize=(10,6))\n",
    "sns.countplot(y_valid)\n",
    "plt.title('Validation')\n",
    "plt.show()\n",
    "\n",
    "fig, ax = plt.subplots(figsize=(10,6))\n",
    "sns.countplot(y_test)\n",
    "plt.title('Test')\n",
    "plt.show()\n",
    "\n",
    "\n",
    "# # fig, ax = plt.subplots(figsize=(10,6))\n",
    "# sns.countplot(np.hstack([y_train,y_valid,y_test]),ax=ax)\n",
    "# plt.title('Total # of images per class')\n",
    "# plt.xlabel('Traffic sign code')\n"
   ]
  },
  {
   "cell_type": "markdown",
   "metadata": {},
   "source": [
    "Augment data"
   ]
  },
  {
   "cell_type": "code",
   "execution_count": 7,
   "metadata": {},
   "outputs": [],
   "source": [
    "# https://github.com/viadanna/sdc-traffic-sign-classifier\n",
    "\n",
    "import cv2\n",
    "\n",
    "def rotate(image, angle=15): # angle taken from \"lecun-paper\"\n",
    "    angle = np.random.randint(-angle, angle)\n",
    "    M = cv2.getRotationMatrix2D((16, 16), angle, 1)\n",
    "    return cv2.warpAffine(src=image, M=M, dsize=(32, 32))\n",
    "\n",
    "def translate(image, pixels=2): # value taken from \"lecun-paper\"\n",
    "    tx = np.random.choice(range(-pixels, pixels))\n",
    "    ty = np.random.choice(range(-pixels, pixels))\n",
    "    M = np.float32([[1, 0, tx], [0, 1, ty]])\n",
    "    return cv2.warpAffine(src=image, M=M, dsize=(32, 32))\n",
    "\n",
    "def random_bright(image,br_val=.5):\n",
    "    image = image*(1 + np.random.uniform(-br_val,br_val))\n",
    "    image[image>255] = 255\n",
    "    image[image<0] = 0\n",
    "    return image\n",
    "\n",
    "def generate(images, count):\n",
    "#     print('generate...')\n",
    "    generated = []\n",
    "    while True:\n",
    "#         print('while...')\n",
    "        for image in images:\n",
    "#             print('for...')\n",
    "            if len(generated) == count:\n",
    "                return generated\n",
    "#             image = random_bright(image)\n",
    "            image = rotate(image)\n",
    "            image = translate(image)\n",
    "#             print(image.shape)\n",
    "            generated.append(image)\n",
    "#             generated.append(np.expand_dims(image, axis=2))\n"
   ]
  },
  {
   "cell_type": "code",
   "execution_count": 59,
   "metadata": {},
   "outputs": [
    {
     "name": "stdout",
     "output_type": "stream",
     "text": [
      "Final number of training examples 172000\n"
     ]
    }
   ],
   "source": [
    "train_class_size = np.zeros(n_classes)\n",
    "for i in range(n_classes):\n",
    "    train_class_size[i] = np.count_nonzero(y_train==i)\n",
    "train_class_size = train_class_size.astype(int)\n",
    "# cl = np.linspace(0,n_classes-1,n_classes).astype(int)\n",
    "# # print(cl)\n",
    "# print(np.vstack([cl, train_class_size]))\n",
    "# plt.bar(cl,train_class_size)\n",
    "\n",
    "\n",
    "unique, counts = np.unique(y_train, return_counts=True)\n",
    "\n",
    "target = 4000\n",
    "# target = np.max(train_class_size)\n",
    "x_augmented = []\n",
    "y_augmented = []\n",
    "\n",
    "for i_class, count in list(zip(unique, counts)):\n",
    "#     print(i_class, count)\n",
    "#     import pdb; pdb.set_trace()\n",
    "    diff = target - count\n",
    "    x_augmented += generate(X_train[np.where(y_train == i_class)[0]], diff)\n",
    "    y_augmented += [i_class for _ in range(diff)]\n",
    "\n",
    "\n",
    "X_train_aug = np.concatenate([X_train, np.array(x_augmented)])\n",
    "y_train_aug = np.concatenate([y_train, np.array(y_augmented)])\n",
    "n_train_aug = y_train_aug.size\n",
    "print('Final number of training examples', n_train_aug)"
   ]
  },
  {
   "cell_type": "markdown",
   "metadata": {},
   "source": [
    "Bypass augmentation"
   ]
  },
  {
   "cell_type": "code",
   "execution_count": 60,
   "metadata": {},
   "outputs": [],
   "source": [
    "# X_train_aug = X_train\n",
    "# y_train_aug = y_train"
   ]
  },
  {
   "cell_type": "code",
   "execution_count": 61,
   "metadata": {},
   "outputs": [
    {
     "data": {
      "text/plain": [
       "<matplotlib.axes._subplots.AxesSubplot at 0x7f1df1c7e2b0>"
      ]
     },
     "execution_count": 61,
     "metadata": {},
     "output_type": "execute_result"
    },
    {
     "data": {
      "image/png": "[encoded data removed]",
      "text/plain": [
       "<matplotlib.figure.Figure at 0x7f1df983a128>"
      ]
     },
     "metadata": {
      "needs_background": "light"
     },
     "output_type": "display_data"
    }
   ],
   "source": [
    "fig, ax = plt.subplots(figsize=(10,6))\n",
    "sns.countplot(np.hstack([y_train_aug]),ax=ax)\n",
    "plt.title('# of training images per class')\n",
    "plt.xlabel('Traffic sign code')\n",
    "\n",
    "sns.countplot(y_train_aug)"
   ]
  },
  {
   "cell_type": "markdown",
   "metadata": {},
   "source": [
    "Create mapping dictionary from csv file"
   ]
  },
  {
   "cell_type": "code",
   "execution_count": 62,
   "metadata": {},
   "outputs": [],
   "source": [
    "import csv\n",
    "with open('signnames.csv') as map_file:\n",
    "    reader = csv.reader(map_file)\n",
    "    \n",
    "    map_dict={}\n",
    "    for row in reader:\n",
    "        map_dict[row[0]] = row[1:]"
   ]
  },
  {
   "cell_type": "markdown",
   "metadata": {},
   "source": [
    "Plot random images from augmented data set and check if label is correct"
   ]
  },
  {
   "cell_type": "code",
   "execution_count": 63,
   "metadata": {},
   "outputs": [
    {
     "data": {
      "image/png": "[encoded data removed]",
      "text/plain": [
       "<matplotlib.figure.Figure at 0x7f1dd19b0400>"
      ]
     },
     "metadata": {
      "needs_background": "light"
     },
     "output_type": "display_data"
    }
   ],
   "source": [
    "rand_inds = np.random.randint(0,len(X_train_aug),size=(1,10))\n",
    "\n",
    "num_rows = 2\n",
    "num_cols = 5\n",
    "\n",
    "fig, axs = plt.subplots(num_rows, num_cols, figsize=(20,7))\n",
    "fig.subplots_adjust(hspace=.005,wspace=1)\n",
    "axs = axs.ravel()\n",
    "\n",
    "for i in range(num_rows*num_cols):\n",
    "    axs[i].imshow(X_train_aug[rand_inds[0][i]])\n",
    "    sign_str = str(y_train_aug[rand_inds[0][i]])\n",
    "    axs[i].title.set_text(map_dict[sign_str])"
   ]
  },
  {
   "cell_type": "code",
   "execution_count": 64,
   "metadata": {
    "scrolled": false
   },
   "outputs": [],
   "source": [
    "if explore_data:\n",
    "    n_rows = n_classes\n",
    "    n_cols = 10\n",
    "\n",
    "    number_of_images = n_rows*n_cols\n",
    "    figure, axis = plt.subplots(n_rows, n_cols, figsize=(9, 42))\n",
    "    # figure.subplots_adjust(hspace = 1, wspace = .1)\n",
    "\n",
    "    for i_row in range(n_rows):    \n",
    "        idx_spc = np.where(y_train_aug==i_row)\n",
    "        for i_col in range(n_cols):\n",
    "            idx = np.random.choice(idx_spc[0])\n",
    "            image = X_train_aug[idx,:,:,:]\n",
    "            axis[i_row,i_col].axis('off')\n",
    "            axis[i_row,i_col].imshow(image)"
   ]
  },
  {
   "cell_type": "markdown",
   "metadata": {},
   "source": [
    "----\n",
    "\n",
    "## Step 2: Design and Test a Model Architecture\n",
    "\n",
    "Design and implement a deep learning model that learns to recognize traffic signs. Train and test your model on the [German Traffic Sign Dataset](http://benchmark.ini.rub.de/?section=gtsrb&subsection=dataset).\n",
    "\n",
    "The LeNet-5 implementation shown in the [classroom](https://classroom.udacity.com/nanodegrees/nd013/parts/fbf77062-5703-404e-b60c-95b78b2f3f9e/modules/6df7ae49-c61c-4bb2-a23e-6527e69209ec/lessons/601ae704-1035-4287-8b11-e2c2716217ad/concepts/d4aca031-508f-4e0b-b493-e7b706120f81) at the end of the CNN lesson is a solid starting point. You'll have to change the number of classes and possibly the preprocessing, but aside from that it's plug and play! \n",
    "\n",
    "With the LeNet-5 solution from the lecture, you should expect a validation set accuracy of about 0.89. To meet specifications, the validation set accuracy will need to be at least 0.93. It is possible to get an even higher accuracy, but 0.93 is the minimum for a successful project submission. \n",
    "\n",
    "There are various aspects to consider when thinking about this problem:\n",
    "\n",
    "- Neural network architecture (is the network over or underfitting?)\n",
    "- Play around preprocessing techniques (normalization, rgb to grayscale, etc)\n",
    "- Number of examples per label (some have more than others).\n",
    "- Generate fake data.\n",
    "\n",
    "Here is an example of a [published baseline model on this problem](http://yann.lecun.com/exdb/publis/pdf/sermanet-ijcnn-11.pdf). It's not required to be familiar with the approach used in the paper but, it's good practice to try to read papers like these."
   ]
  },
  {
   "cell_type": "markdown",
   "metadata": {},
   "source": [
    "### Pre-process the Data Set (normalization, grayscale, etc.)"
   ]
  },
  {
   "cell_type": "markdown",
   "metadata": {},
   "source": [
    "Minimally, the image data should be normalized so that the data has mean zero and equal variance. For image data, `(pixel - 128)/ 128` is a quick way to approximately normalize the data and can be used in this project. \n",
    "\n",
    "Other pre-processing steps are optional. You can try different techniques to see if it improves performance. \n",
    "\n",
    "Use the code cell (or multiple code cells, if necessary) to implement the first step of your project."
   ]
  },
  {
   "cell_type": "code",
   "execution_count": 65,
   "metadata": {},
   "outputs": [],
   "source": [
    "### Preprocess the data here. It is required to normalize the data. Other preprocessing steps could include \n",
    "### converting to grayscale, etc.\n",
    "### Feel free to use as many code cells as needed."
   ]
  },
  {
   "cell_type": "markdown",
   "metadata": {},
   "source": [
    "Shuffle data to avoid overfitting"
   ]
  },
  {
   "cell_type": "code",
   "execution_count": 66,
   "metadata": {},
   "outputs": [],
   "source": [
    "from sklearn.utils import shuffle\n",
    "\n",
    "X_train_aug, y_train_aug = shuffle(X_train_aug, y_train_aug)"
   ]
  },
  {
   "cell_type": "markdown",
   "metadata": {},
   "source": [
    "Normalization"
   ]
  },
  {
   "cell_type": "code",
   "execution_count": 67,
   "metadata": {},
   "outputs": [
    {
     "name": "stdout",
     "output_type": "stream",
     "text": [
      "-1.0 0.9921875\n",
      "-1.0 0.9921875\n",
      "-1.0 0.9921875\n"
     ]
    }
   ],
   "source": [
    "X_train_norm = np.add(X_train_aug,-128)/128\n",
    "print(np.min(X_train_norm), np.max(X_train_norm))\n",
    "\n",
    "X_valid_norm = np.add(X_valid,-128)/128\n",
    "print(np.min(X_valid_norm), np.max(X_valid_norm))\n",
    "\n",
    "X_test_norm = np.add(X_test,-128)/128\n",
    "print(np.min(X_test_norm), np.max(X_test_norm))"
   ]
  },
  {
   "cell_type": "markdown",
   "metadata": {},
   "source": [
    "Grayscale conversion\n",
    "\n",
    "[OpenCV documentation](https://docs.opencv.org/3.1.0/de/d25/imgproc_color_conversions.html)"
   ]
  },
  {
   "cell_type": "code",
   "execution_count": 68,
   "metadata": {},
   "outputs": [
    {
     "name": "stdout",
     "output_type": "stream",
     "text": [
      "(172000, 32, 32, 3)\n",
      "(172000, 32, 32, 1)\n"
     ]
    }
   ],
   "source": [
    "print(X_train_aug.shape)\n",
    "r_ch = X_train_norm[:,:,:,0]\n",
    "g_ch = X_train_norm[:,:,:,1]\n",
    "b_ch = X_train_norm[:,:,:,2]\n",
    "\n",
    "X_train_gray = 0.299*r_ch + 0.587*g_ch + 0.114*b_ch\n",
    "X_train_gray = X_train_gray[:,:,:,np.newaxis]\n",
    "print(X_train_gray.shape)"
   ]
  },
  {
   "cell_type": "code",
   "execution_count": 69,
   "metadata": {},
   "outputs": [
    {
     "name": "stdout",
     "output_type": "stream",
     "text": [
      "(4410, 32, 32, 3)\n",
      "(4410, 32, 32, 1)\n"
     ]
    }
   ],
   "source": [
    "print(X_valid.shape)\n",
    "r_ch = X_valid_norm[:,:,:,0]\n",
    "g_ch = X_valid_norm[:,:,:,1]\n",
    "b_ch = X_valid_norm[:,:,:,2]\n",
    "\n",
    "X_valid_gray = 0.299*r_ch + 0.587*g_ch + 0.114*b_ch\n",
    "X_valid_gray = X_valid_gray[:,:,:,np.newaxis]\n",
    "print(X_valid_gray.shape)"
   ]
  },
  {
   "cell_type": "code",
   "execution_count": 70,
   "metadata": {},
   "outputs": [
    {
     "name": "stdout",
     "output_type": "stream",
     "text": [
      "(12630, 32, 32, 3)\n",
      "(12630, 32, 32, 1)\n"
     ]
    }
   ],
   "source": [
    "print(X_test.shape)\n",
    "r_ch = X_test_norm[:,:,:,0]\n",
    "g_ch = X_test_norm[:,:,:,1]\n",
    "b_ch = X_test_norm[:,:,:,2]\n",
    "\n",
    "X_test_gray = 0.299*r_ch + 0.587*g_ch + 0.114*b_ch\n",
    "X_test_gray = X_test_gray[:,:,:,np.newaxis]\n",
    "print(X_test_gray.shape)"
   ]
  },
  {
   "cell_type": "code",
   "execution_count": 71,
   "metadata": {
    "scrolled": false
   },
   "outputs": [
    {
     "data": {
      "image/png": "[encoded data removed]",
      "text/plain": [
       "<matplotlib.figure.Figure at 0x7f1dfc7d2358>"
      ]
     },
     "metadata": {
      "needs_background": "light"
     },
     "output_type": "display_data"
    }
   ],
   "source": [
    "import random as rd\n",
    "fig, axs = plt.subplots(2,4, figsize=(16,8))\n",
    "fig.subplots_adjust(hspace=.05,wspace=.3)\n",
    "axs = axs.ravel()\n",
    "for i in range(8):\n",
    "    axs[i].imshow(X_train_gray[rd.randint(0,n_train),:,:,0], cmap='gray')"
   ]
  },
  {
   "cell_type": "code",
   "execution_count": 72,
   "metadata": {},
   "outputs": [],
   "source": [
    "# X_train_post = X_train_norm\n",
    "# X_valid_post = X_valid_norm\n",
    "# X_test_post = X_test_norm\n",
    "X_train_post = X_train_gray\n",
    "X_valid_post = X_valid_gray\n",
    "X_test_post = X_test_gray"
   ]
  },
  {
   "cell_type": "markdown",
   "metadata": {},
   "source": [
    "### Model Architecture"
   ]
  },
  {
   "cell_type": "code",
   "execution_count": 73,
   "metadata": {},
   "outputs": [],
   "source": [
    "### Define your architecture here.\n",
    "### Feel free to use as many code cells as needed."
   ]
  },
  {
   "cell_type": "markdown",
   "metadata": {},
   "source": [
    "LeNet-5"
   ]
  },
  {
   "cell_type": "code",
   "execution_count": 74,
   "metadata": {},
   "outputs": [],
   "source": [
    "import tensorflow as tf\n",
    "\n",
    "EPOCHS = 100\n",
    "BATCH_SIZE = 64"
   ]
  },
  {
   "cell_type": "code",
   "execution_count": 75,
   "metadata": {},
   "outputs": [
    {
     "data": {
      "text/plain": [
       "True"
      ]
     },
     "execution_count": 75,
     "metadata": {},
     "output_type": "execute_result"
    }
   ],
   "source": [
    "tf.test.is_gpu_available()"
   ]
  },
  {
   "cell_type": "code",
   "execution_count": 76,
   "metadata": {},
   "outputs": [
    {
     "data": {
      "text/plain": [
       "True"
      ]
     },
     "execution_count": 76,
     "metadata": {},
     "output_type": "execute_result"
    }
   ],
   "source": [
    "tf.test.is_built_with_cuda()"
   ]
  },
  {
   "cell_type": "code",
   "execution_count": 77,
   "metadata": {},
   "outputs": [
    {
     "data": {
      "text/plain": [
       "'/device:GPU:0'"
      ]
     },
     "execution_count": 77,
     "metadata": {},
     "output_type": "execute_result"
    }
   ],
   "source": [
    "tf.test.gpu_device_name()"
   ]
  },
  {
   "cell_type": "code",
   "execution_count": 78,
   "metadata": {
    "scrolled": false
   },
   "outputs": [],
   "source": [
    "from tensorflow.contrib.layers import flatten\n",
    "\n",
    "def LeNet(x):    \n",
    "    # Arguments used for tf.truncated_normal, randomly defines variables for the weights and biases for each layer\n",
    "    mu = 0\n",
    "    sigma = 0.1\n",
    "    \n",
    "    # SOLUTION: Layer 1: Convolutional. Input = 32x32x1. Output = 28x28x6.\n",
    "    conv1_W = tf.Variable(tf.truncated_normal(shape=(5, 5, 1, 6), mean = mu, stddev = sigma))\n",
    "    conv1_b = tf.Variable(tf.zeros(6))\n",
    "    conv1   = tf.nn.conv2d(x, conv1_W, strides=[1, 1, 1, 1], padding='VALID') + conv1_b\n",
    "    print('shape layer1 before booling (expected: 28x28x6): ',conv1.shape)\n",
    "    # SOLUTION: Activation.\n",
    "    conv1 = tf.nn.relu(conv1)\n",
    "    # SOLUTION: Pooling. Input = 28x28x6. Output = 14x14x6.\n",
    "    conv1 = tf.nn.max_pool(conv1, ksize=[1, 2, 2, 1], strides=[1, 2, 2, 1], padding='VALID')\n",
    "    print('shape layer1 (expected: 14x14x6): ', conv1.shape)\n",
    "    \n",
    "    # SOLUTION: Layer 2: Convolutional. Output = 10x10x16.\n",
    "    conv2_W = tf.Variable(tf.truncated_normal(shape=(5, 5, 6, 16), mean = mu, stddev = sigma))\n",
    "    conv2_b = tf.Variable(tf.zeros(16))\n",
    "    conv2   = tf.nn.conv2d(conv1, conv2_W, strides=[1, 1, 1, 1], padding='VALID') + conv2_b\n",
    "    # SOLUTION: Activation.\n",
    "    conv2 = tf.nn.relu(conv2)\n",
    "    # SOLUTION: Pooling. Input = 10x10x16. Output = 5x5x16.\n",
    "    conv2 = tf.nn.max_pool(conv2, ksize=[1, 2, 2, 1], strides=[1, 2, 2, 1], padding='VALID')\n",
    "    print('shape layer2 (expected: 5x5x16): ', conv2.shape)\n",
    "    # SOLUTION: Flatten. Input = 5x5x16. Output = 400.\n",
    "    fc0   = flatten(conv2)\n",
    "    print('shape layer2, flat (expected: 400): ', fc0.shape)\n",
    "    \n",
    "    # SOLUTION: Layer 3: Fully Connected. Input = 400. Output = 120.\n",
    "    fc1_W = tf.Variable(tf.truncated_normal(shape=(400, 120), mean = mu, stddev = sigma))\n",
    "    fc1_b = tf.Variable(tf.zeros(120))\n",
    "    fc1   = tf.matmul(fc0, fc1_W) + fc1_b\n",
    "    # SOLUTION: Activation.\n",
    "    fc1    = tf.nn.relu(fc1)\n",
    "    fc1 = tf.nn.dropout(fc1, rate=.5)\n",
    "    print('shape layer3 (expected: 120): ', fc1.shape)\n",
    "\n",
    "    # SOLUTION: Layer 4: Fully Connected. Input = 120. Output = 84.\n",
    "    fc2_W  = tf.Variable(tf.truncated_normal(shape=(120, 84), mean = mu, stddev = sigma))\n",
    "    fc2_b  = tf.Variable(tf.zeros(84))\n",
    "    fc2    = tf.matmul(fc1, fc2_W) + fc2_b\n",
    "    # SOLUTION: Activation.\n",
    "    fc2    = tf.nn.relu(fc2)\n",
    "    fc2 = tf.nn.dropout(fc2, rate=.5)\n",
    "    print('shape layer4 (expected: 84): ', fc2.shape)\n",
    "\n",
    "    # SOLUTION: Layer 5: Fully Connected. Input = 84. Output = 42.\n",
    "    fc3_W  = tf.Variable(tf.truncated_normal(shape=(84, 42), mean = mu, stddev = sigma))\n",
    "    fc3_b  = tf.Variable(tf.zeros(42))\n",
    "    logits = tf.matmul(fc2, fc3_W) + fc3_b\n",
    "    print('shape layer5 (expected: 42): ', logits.shape)\n",
    "    \n",
    "    return logits"
   ]
  },
  {
   "cell_type": "markdown",
   "metadata": {},
   "source": [
    "x and y are placeholders for batches"
   ]
  },
  {
   "cell_type": "code",
   "execution_count": 79,
   "metadata": {},
   "outputs": [],
   "source": [
    "x = tf.placeholder(tf.float32, (None, 32, 32, 1))\n",
    "y = tf.placeholder(tf.int32, (None))\n",
    "one_hot_y = tf.one_hot(y, 42)"
   ]
  },
  {
   "cell_type": "markdown",
   "metadata": {},
   "source": [
    "### Train, Validate and Test the Model"
   ]
  },
  {
   "cell_type": "markdown",
   "metadata": {},
   "source": [
    "A validation set can be used to assess how well the model is performing. A low accuracy on the training and validation\n",
    "sets imply underfitting. A high accuracy on the training set but low accuracy on the validation set implies overfitting."
   ]
  },
  {
   "cell_type": "markdown",
   "metadata": {},
   "source": [
    "Training"
   ]
  },
  {
   "cell_type": "code",
   "execution_count": 80,
   "metadata": {},
   "outputs": [],
   "source": [
    "### Train your model here.\n",
    "### Calculate and report the accuracy on the training and validation set.\n",
    "### Once a final model architecture is selected, \n",
    "### the accuracy on the test set should be calculated and reported as well.\n",
    "### Feel free to use as many code cells as needed."
   ]
  },
  {
   "cell_type": "markdown",
   "metadata": {},
   "source": [
    "Training pipeline"
   ]
  },
  {
   "cell_type": "code",
   "execution_count": 84,
   "metadata": {},
   "outputs": [
    {
     "name": "stdout",
     "output_type": "stream",
     "text": [
      "shape layer1 before booling (expected: 28x28x6):  (?, 28, 28, 6)\n",
      "shape layer1 (expected: 14x14x6):  (?, 14, 14, 6)\n",
      "shape layer2 (expected: 5x5x16):  (?, 5, 5, 16)\n",
      "shape layer2, flat (expected: 400):  (?, 400)\n",
      "shape layer3 (expected: 120):  (?, 120)\n",
      "shape layer4 (expected: 84):  (?, 84)\n",
      "shape layer5 (expected: 42):  (?, 42)\n"
     ]
    }
   ],
   "source": [
    "rate = 0.00001\n",
    "\n",
    "# input is passed to LeNet function to calculate logits\n",
    "logits = LeNet(x)\n",
    "# compare logits to ground truth labels and calculate cross entropy\n",
    "cross_entropy = tf.nn.softmax_cross_entropy_with_logits(labels=one_hot_y, logits=logits)\n",
    "# averages cross entropy from all training images\n",
    "loss_operation = tf.reduce_mean(cross_entropy)\n",
    "# initialize optimizer (Adam algorithm is similar to but more sofisticated than stochastic gradient descent)\n",
    "optimizer = tf.train.AdamOptimizer(learning_rate = rate)\n",
    "# backprob is used here\n",
    "training_operation = optimizer.minimize(loss_operation)"
   ]
  },
  {
   "cell_type": "markdown",
   "metadata": {},
   "source": [
    "Model Evaluation"
   ]
  },
  {
   "cell_type": "code",
   "execution_count": 85,
   "metadata": {},
   "outputs": [],
   "source": [
    "correct_prediction = tf.equal(tf.argmax(logits, 1), tf.argmax(one_hot_y, 1))\n",
    "accuracy_operation = tf.reduce_mean(tf.cast(correct_prediction, tf.float32))\n",
    "\n",
    "def evaluate(X_data, y_data):\n",
    "    num_examples = len(X_data)\n",
    "    total_accuracy = 0\n",
    "    sess = tf.get_default_session()\n",
    "    for offset in range(0, num_examples, BATCH_SIZE):\n",
    "        batch_x, batch_y = X_data[offset:offset+BATCH_SIZE], y_data[offset:offset+BATCH_SIZE]\n",
    "        accuracy = sess.run(accuracy_operation, feed_dict={x: batch_x, y: batch_y})\n",
    "        total_accuracy += (accuracy * len(batch_x))\n",
    "    return total_accuracy / num_examples"
   ]
  },
  {
   "cell_type": "markdown",
   "metadata": {},
   "source": [
    "# Model Training"
   ]
  },
  {
   "cell_type": "code",
   "execution_count": 86,
   "metadata": {
    "scrolled": false
   },
   "outputs": [
    {
     "name": "stdout",
     "output_type": "stream",
     "text": [
      "Training...\n",
      "\n",
      "EPOCH 1 ...\n",
      "Validation Accuracy = 0.034\n",
      "\n",
      "EPOCH 2 ...\n",
      "Validation Accuracy = 0.041\n",
      "\n",
      "EPOCH 3 ...\n",
      "Validation Accuracy = 0.046\n",
      "\n",
      "EPOCH 4 ...\n",
      "Validation Accuracy = 0.057\n",
      "\n",
      "EPOCH 5 ...\n",
      "Validation Accuracy = 0.060\n",
      "\n",
      "EPOCH 6 ...\n",
      "Validation Accuracy = 0.080\n",
      "\n",
      "EPOCH 7 ...\n",
      "Validation Accuracy = 0.088\n",
      "\n",
      "EPOCH 8 ...\n",
      "Validation Accuracy = 0.111\n",
      "\n",
      "EPOCH 9 ...\n",
      "Validation Accuracy = 0.137\n",
      "\n",
      "EPOCH 10 ...\n",
      "Validation Accuracy = 0.156\n",
      "\n",
      "EPOCH 11 ...\n",
      "Validation Accuracy = 0.168\n",
      "\n",
      "EPOCH 12 ...\n",
      "Validation Accuracy = 0.195\n",
      "\n",
      "EPOCH 13 ...\n",
      "Validation Accuracy = 0.212\n",
      "\n",
      "EPOCH 14 ...\n",
      "Validation Accuracy = 0.241\n",
      "\n",
      "EPOCH 15 ...\n",
      "Validation Accuracy = 0.265\n",
      "\n",
      "EPOCH 16 ...\n",
      "Validation Accuracy = 0.277\n",
      "\n",
      "EPOCH 17 ...\n",
      "Validation Accuracy = 0.295\n",
      "\n",
      "EPOCH 18 ...\n",
      "Validation Accuracy = 0.309\n",
      "\n",
      "EPOCH 19 ...\n",
      "Validation Accuracy = 0.328\n",
      "\n",
      "EPOCH 20 ...\n",
      "Validation Accuracy = 0.345\n",
      "\n",
      "EPOCH 21 ...\n",
      "Validation Accuracy = 0.355\n",
      "\n",
      "EPOCH 22 ...\n",
      "Validation Accuracy = 0.371\n",
      "\n",
      "EPOCH 23 ...\n",
      "Validation Accuracy = 0.398\n",
      "\n",
      "EPOCH 24 ...\n",
      "Validation Accuracy = 0.408\n",
      "\n",
      "EPOCH 25 ...\n",
      "Validation Accuracy = 0.407\n",
      "\n",
      "EPOCH 26 ...\n",
      "Validation Accuracy = 0.429\n",
      "\n",
      "EPOCH 27 ...\n",
      "Validation Accuracy = 0.430\n",
      "\n",
      "EPOCH 28 ...\n",
      "Validation Accuracy = 0.430\n",
      "\n",
      "EPOCH 29 ...\n",
      "Validation Accuracy = 0.465\n",
      "\n",
      "EPOCH 30 ...\n",
      "Validation Accuracy = 0.458\n",
      "\n",
      "EPOCH 31 ...\n",
      "Validation Accuracy = 0.472\n",
      "\n",
      "EPOCH 32 ...\n",
      "Validation Accuracy = 0.489\n",
      "\n",
      "EPOCH 33 ...\n",
      "Validation Accuracy = 0.491\n",
      "\n",
      "EPOCH 34 ...\n",
      "Validation Accuracy = 0.487\n",
      "\n",
      "EPOCH 35 ...\n",
      "Validation Accuracy = 0.511\n",
      "\n",
      "EPOCH 36 ...\n",
      "Validation Accuracy = 0.512\n",
      "\n",
      "EPOCH 37 ...\n",
      "Validation Accuracy = 0.524\n",
      "\n",
      "EPOCH 38 ...\n",
      "Validation Accuracy = 0.522\n",
      "\n",
      "EPOCH 39 ...\n",
      "Validation Accuracy = 0.536\n",
      "\n",
      "EPOCH 40 ...\n",
      "Validation Accuracy = 0.545\n",
      "\n",
      "EPOCH 41 ...\n",
      "Validation Accuracy = 0.536\n",
      "\n",
      "EPOCH 42 ...\n",
      "Validation Accuracy = 0.552\n",
      "\n",
      "EPOCH 43 ...\n",
      "Validation Accuracy = 0.557\n",
      "\n",
      "EPOCH 44 ...\n",
      "Validation Accuracy = 0.561\n",
      "\n",
      "EPOCH 45 ...\n",
      "Validation Accuracy = 0.578\n",
      "\n",
      "EPOCH 46 ...\n",
      "Validation Accuracy = 0.578\n",
      "\n",
      "EPOCH 47 ...\n",
      "Validation Accuracy = 0.570\n",
      "\n",
      "EPOCH 48 ...\n",
      "Validation Accuracy = 0.587\n",
      "\n",
      "EPOCH 49 ...\n",
      "Validation Accuracy = 0.583\n",
      "\n",
      "EPOCH 50 ...\n",
      "Validation Accuracy = 0.580\n",
      "\n",
      "EPOCH 51 ...\n",
      "Validation Accuracy = 0.588\n",
      "\n",
      "EPOCH 52 ...\n",
      "Validation Accuracy = 0.593\n",
      "\n",
      "EPOCH 53 ...\n",
      "Validation Accuracy = 0.606\n",
      "\n",
      "EPOCH 54 ...\n",
      "Validation Accuracy = 0.608\n",
      "\n",
      "EPOCH 55 ...\n",
      "Validation Accuracy = 0.603\n",
      "\n",
      "EPOCH 56 ...\n",
      "Validation Accuracy = 0.607\n",
      "\n",
      "EPOCH 57 ...\n",
      "Validation Accuracy = 0.601\n",
      "\n",
      "EPOCH 58 ...\n",
      "Validation Accuracy = 0.618\n",
      "\n",
      "EPOCH 59 ...\n",
      "Validation Accuracy = 0.619\n",
      "\n",
      "EPOCH 60 ...\n",
      "Validation Accuracy = 0.614\n",
      "\n",
      "EPOCH 61 ...\n",
      "Validation Accuracy = 0.608\n",
      "\n",
      "EPOCH 62 ...\n",
      "Validation Accuracy = 0.609\n",
      "\n",
      "EPOCH 63 ...\n",
      "Validation Accuracy = 0.612\n",
      "\n",
      "EPOCH 64 ...\n",
      "Validation Accuracy = 0.614\n",
      "\n",
      "EPOCH 65 ...\n",
      "Validation Accuracy = 0.614\n",
      "\n",
      "EPOCH 66 ...\n",
      "Validation Accuracy = 0.612\n",
      "\n",
      "EPOCH 67 ...\n",
      "Validation Accuracy = 0.598\n",
      "\n",
      "EPOCH 68 ...\n",
      "Validation Accuracy = 0.593\n",
      "\n",
      "EPOCH 69 ...\n",
      "Validation Accuracy = 0.598\n",
      "\n",
      "EPOCH 70 ...\n",
      "Validation Accuracy = 0.593\n",
      "\n",
      "EPOCH 71 ...\n",
      "Validation Accuracy = 0.591\n",
      "\n",
      "EPOCH 72 ...\n",
      "Validation Accuracy = 0.573\n",
      "\n",
      "EPOCH 73 ...\n",
      "Validation Accuracy = 0.571\n",
      "\n",
      "EPOCH 74 ...\n",
      "Validation Accuracy = 0.561\n",
      "\n",
      "EPOCH 75 ...\n",
      "Validation Accuracy = 0.574\n",
      "\n",
      "EPOCH 76 ...\n",
      "Validation Accuracy = 0.558\n",
      "\n",
      "EPOCH 77 ...\n",
      "Validation Accuracy = 0.531\n",
      "\n",
      "EPOCH 78 ...\n",
      "Validation Accuracy = 0.532\n",
      "\n",
      "EPOCH 79 ...\n",
      "Validation Accuracy = 0.517\n",
      "\n",
      "EPOCH 80 ...\n",
      "Validation Accuracy = 0.503\n",
      "\n",
      "EPOCH 81 ...\n",
      "Validation Accuracy = 0.512\n",
      "\n",
      "EPOCH 82 ...\n",
      "Validation Accuracy = 0.497\n",
      "\n",
      "EPOCH 83 ...\n",
      "Validation Accuracy = 0.485\n",
      "\n",
      "EPOCH 84 ...\n",
      "Validation Accuracy = 0.473\n",
      "\n",
      "EPOCH 85 ...\n",
      "Validation Accuracy = 0.469\n",
      "\n",
      "EPOCH 86 ...\n",
      "Validation Accuracy = 0.451\n",
      "\n",
      "EPOCH 87 ...\n",
      "Validation Accuracy = 0.442\n",
      "\n",
      "EPOCH 88 ...\n",
      "Validation Accuracy = 0.422\n",
      "\n",
      "EPOCH 89 ...\n",
      "Validation Accuracy = 0.408\n",
      "\n",
      "EPOCH 90 ...\n",
      "Validation Accuracy = 0.394\n",
      "\n",
      "EPOCH 91 ...\n",
      "Validation Accuracy = 0.381\n",
      "\n",
      "EPOCH 92 ...\n",
      "Validation Accuracy = 0.350\n",
      "\n",
      "EPOCH 93 ...\n",
      "Validation Accuracy = 0.337\n",
      "\n",
      "EPOCH 94 ...\n",
      "Validation Accuracy = 0.317\n",
      "\n",
      "EPOCH 95 ...\n",
      "Validation Accuracy = 0.302\n",
      "\n",
      "EPOCH 96 ...\n",
      "Validation Accuracy = 0.265\n",
      "\n",
      "EPOCH 97 ...\n",
      "Validation Accuracy = 0.253\n",
      "\n",
      "EPOCH 98 ...\n",
      "Validation Accuracy = 0.227\n",
      "\n",
      "EPOCH 99 ...\n",
      "Validation Accuracy = 0.216\n",
      "\n",
      "EPOCH 100 ...\n",
      "Validation Accuracy = 0.179\n",
      "\n",
      "Model saved\n",
      "Training time:  1065.85 s\n"
     ]
    }
   ],
   "source": [
    "from tqdm import tqdm\n",
    "import time\n",
    "\n",
    "# start time measurement\n",
    "time_start = time.time()\n",
    "\n",
    "with tf.Session() as sess:\n",
    "    sess.run(tf.global_variables_initializer())\n",
    "    num_examples = len(X_train_post)\n",
    "\n",
    "    print(\"Training...\")\n",
    "    print()\n",
    "    \n",
    "    for i in range(EPOCHS):\n",
    "        print(\"EPOCH {} ...\".format(i+1))\n",
    "        X_train_post, y_train_aug = shuffle(X_train_post, y_train_aug)\n",
    "#         for offset in tqdm(range(0, num_examples, BATCH_SIZE)): # includes tqdm progess meter\n",
    "        for offset in range(0, num_examples, BATCH_SIZE): #without tqdm progress meter     \n",
    "            end = offset + BATCH_SIZE\n",
    "            batch_x, batch_y = X_train_post[offset:end], y_train_aug[offset:end]\n",
    "            # training\n",
    "            sess.run(training_operation, feed_dict={x: batch_x, y: batch_y})\n",
    "            \n",
    "        validation_accuracy = evaluate(X_valid_post, y_valid)\n",
    "#         print(\"EPOCH {} ...\".format(i+1))\n",
    "        print(\"Validation Accuracy = {:.3f}\".format(validation_accuracy))\n",
    "        print()\n",
    "\n",
    "    try:\n",
    "        saver\n",
    "    except NameError:\n",
    "        saver = tf.train.Saver()\n",
    "    saver.save(sess, './lenet')\n",
    "    print(\"Model saved\")\n",
    "\n",
    "# stop time measurement and print result\n",
    "time_end = time.time()\n",
    "print('Training time: ', np.round(time_end-time_start,2), 's')"
   ]
  },
  {
   "cell_type": "code",
   "execution_count": null,
   "metadata": {},
   "outputs": [],
   "source": []
  },
  {
   "cell_type": "code",
   "execution_count": 87,
   "metadata": {},
   "outputs": [
    {
     "ename": "SyntaxError",
     "evalue": "invalid syntax (<ipython-input-87-a96ba3aab008>, line 1)",
     "output_type": "error",
     "traceback": [
      "\u001b[0;36m  File \u001b[0;32m\"<ipython-input-87-a96ba3aab008>\"\u001b[0;36m, line \u001b[0;32m1\u001b[0m\n\u001b[0;31m    stop here\u001b[0m\n\u001b[0m            ^\u001b[0m\n\u001b[0;31mSyntaxError\u001b[0m\u001b[0;31m:\u001b[0m invalid syntax\n"
     ]
    }
   ],
   "source": [
    "stop here"
   ]
  },
  {
   "cell_type": "code",
   "execution_count": null,
   "metadata": {},
   "outputs": [],
   "source": [
    "run this cell only once!\n",
    "\n",
    "with tf.Session() as sess:\n",
    "    saver.restore(sess, tf.train.latest_checkpoint('.'))\n",
    "\n",
    "    test_accuracy = evaluate(X_test_post, y_test)\n",
    "    print(\"Test Accuracy = {:.3f}\".format(test_accuracy))"
   ]
  },
  {
   "cell_type": "markdown",
   "metadata": {},
   "source": [
    "---\n",
    "\n",
    "## Step 3: Test a Model on New Images\n",
    "\n",
    "To give yourself more insight into how your model is working, download at least five pictures of German traffic signs from the web and use your model to predict the traffic sign type.\n",
    "\n",
    "You may find `signnames.csv` useful as it contains mappings from the class id (integer) to the actual sign name."
   ]
  },
  {
   "cell_type": "markdown",
   "metadata": {},
   "source": [
    "### Load and Output the Images"
   ]
  },
  {
   "cell_type": "code",
   "execution_count": null,
   "metadata": {},
   "outputs": [],
   "source": [
    "### Load the images and plot them here.\n",
    "### Feel free to use as many code cells as needed."
   ]
  },
  {
   "cell_type": "markdown",
   "metadata": {},
   "source": [
    "### Predict the Sign Type for Each Image"
   ]
  },
  {
   "cell_type": "code",
   "execution_count": null,
   "metadata": {},
   "outputs": [],
   "source": [
    "### Run the predictions here and use the model to output the prediction for each image.\n",
    "### Make sure to pre-process the images with the same pre-processing pipeline used earlier.\n",
    "### Feel free to use as many code cells as needed."
   ]
  },
  {
   "cell_type": "markdown",
   "metadata": {},
   "source": [
    "### Analyze Performance"
   ]
  },
  {
   "cell_type": "code",
   "execution_count": null,
   "metadata": {},
   "outputs": [],
   "source": [
    "### Calculate the accuracy for these 5 new images. \n",
    "### For example, if the model predicted 1 out of 5 signs correctly, it's 20% accurate on these new images."
   ]
  },
  {
   "cell_type": "markdown",
   "metadata": {},
   "source": [
    "### Output Top 5 Softmax Probabilities For Each Image Found on the Web"
   ]
  },
  {
   "cell_type": "markdown",
   "metadata": {},
   "source": [
    "For each of the new images, print out the model's softmax probabilities to show the **certainty** of the model's predictions (limit the output to the top 5 probabilities for each image). [`tf.nn.top_k`](https://www.tensorflow.org/versions/r0.12/api_docs/python/nn.html#top_k) could prove helpful here. \n",
    "\n",
    "The example below demonstrates how tf.nn.top_k can be used to find the top k predictions for each image.\n",
    "\n",
    "`tf.nn.top_k` will return the values and indices (class ids) of the top k predictions. So if k=3, for each sign, it'll return the 3 largest probabilities (out of a possible 43) and the correspoding class ids.\n",
    "\n",
    "Take this numpy array as an example. The values in the array represent predictions. The array contains softmax probabilities for five candidate images with six possible classes. `tf.nn.top_k` is used to choose the three classes with the highest probability:\n",
    "\n",
    "```\n",
    "# (5, 6) array\n",
    "a = np.array([[ 0.24879643,  0.07032244,  0.12641572,  0.34763842,  0.07893497,\n",
    "         0.12789202],\n",
    "       [ 0.28086119,  0.27569815,  0.08594638,  0.0178669 ,  0.18063401,\n",
    "         0.15899337],\n",
    "       [ 0.26076848,  0.23664738,  0.08020603,  0.07001922,  0.1134371 ,\n",
    "         0.23892179],\n",
    "       [ 0.11943333,  0.29198961,  0.02605103,  0.26234032,  0.1351348 ,\n",
    "         0.16505091],\n",
    "       [ 0.09561176,  0.34396535,  0.0643941 ,  0.16240774,  0.24206137,\n",
    "         0.09155967]])\n",
    "```\n",
    "\n",
    "Running it through `sess.run(tf.nn.top_k(tf.constant(a), k=3))` produces:\n",
    "\n",
    "```\n",
    "TopKV2(values=array([[ 0.34763842,  0.24879643,  0.12789202],\n",
    "       [ 0.28086119,  0.27569815,  0.18063401],\n",
    "       [ 0.26076848,  0.23892179,  0.23664738],\n",
    "       [ 0.29198961,  0.26234032,  0.16505091],\n",
    "       [ 0.34396535,  0.24206137,  0.16240774]]), indices=array([[3, 0, 5],\n",
    "       [0, 1, 4],\n",
    "       [0, 5, 1],\n",
    "       [1, 3, 5],\n",
    "       [1, 4, 3]], dtype=int32))\n",
    "```\n",
    "\n",
    "Looking just at the first row we get `[ 0.34763842,  0.24879643,  0.12789202]`, you can confirm these are the 3 largest probabilities in `a`. You'll also notice `[3, 0, 5]` are the corresponding indices."
   ]
  },
  {
   "cell_type": "code",
   "execution_count": null,
   "metadata": {},
   "outputs": [],
   "source": [
    "### Print out the top five softmax probabilities for the predictions on the German traffic sign images found on the web. \n",
    "### Feel free to use as many code cells as needed."
   ]
  },
  {
   "cell_type": "markdown",
   "metadata": {},
   "source": [
    "### Project Writeup\n",
    "\n",
    "Once you have completed the code implementation, document your results in a project writeup using this [template](https://github.com/udacity/CarND-Traffic-Sign-Classifier-Project/blob/master/writeup_template.md) as a guide. The writeup can be in a markdown or pdf file. "
   ]
  },
  {
   "cell_type": "markdown",
   "metadata": {},
   "source": [
    "> **Note**: Once you have completed all of the code implementations and successfully answered each question above, you may finalize your work by exporting the iPython Notebook as an HTML document. You can do this by using the menu above and navigating to  \\n\",\n",
    "    \"**File -> Download as -> HTML (.html)**. Include the finished document along with this notebook as your submission."
   ]
  },
  {
   "cell_type": "markdown",
   "metadata": {},
   "source": [
    "---\n",
    "\n",
    "## Step 4 (Optional): Visualize the Neural Network's State with Test Images\n",
    "\n",
    " This Section is not required to complete but acts as an additional excersise for understaning the output of a neural network's weights. While neural networks can be a great learning device they are often referred to as a black box. We can understand what the weights of a neural network look like better by plotting their feature maps. After successfully training your neural network you can see what it's feature maps look like by plotting the output of the network's weight layers in response to a test stimuli image. From these plotted feature maps, it's possible to see what characteristics of an image the network finds interesting. For a sign, maybe the inner network feature maps react with high activation to the sign's boundary outline or to the contrast in the sign's painted symbol.\n",
    "\n",
    " Provided for you below is the function code that allows you to get the visualization output of any tensorflow weight layer you want. The inputs to the function should be a stimuli image, one used during training or a new one you provided, and then the tensorflow variable name that represents the layer's state during the training process, for instance if you wanted to see what the [LeNet lab's](https://classroom.udacity.com/nanodegrees/nd013/parts/fbf77062-5703-404e-b60c-95b78b2f3f9e/modules/6df7ae49-c61c-4bb2-a23e-6527e69209ec/lessons/601ae704-1035-4287-8b11-e2c2716217ad/concepts/d4aca031-508f-4e0b-b493-e7b706120f81) feature maps looked like for it's second convolutional layer you could enter conv2 as the tf_activation variable.\n",
    "\n",
    "For an example of what feature map outputs look like, check out NVIDIA's results in their paper [End-to-End Deep Learning for Self-Driving Cars](https://devblogs.nvidia.com/parallelforall/deep-learning-self-driving-cars/) in the section Visualization of internal CNN State. NVIDIA was able to show that their network's inner weights had high activations to road boundary lines by comparing feature maps from an image with a clear path to one without. Try experimenting with a similar test to show that your trained network's weights are looking for interesting features, whether it's looking at differences in feature maps from images with or without a sign, or even what feature maps look like in a trained network vs a completely untrained one on the same sign image.\n",
    "\n",
    "<figure>\n",
    " <img src=\"visualize_cnn.png\" width=\"380\" alt=\"Combined Image\" />\n",
    " <figcaption>\n",
    " <p></p> \n",
    " <p style=\"text-align: center;\"> Your output should look something like this (above)</p> \n",
    " </figcaption>\n",
    "</figure>\n",
    " <p></p> \n"
   ]
  },
  {
   "cell_type": "code",
   "execution_count": null,
   "metadata": {},
   "outputs": [],
   "source": [
    "### Visualize your network's feature maps here.\n",
    "### Feel free to use as many code cells as needed.\n",
    "\n",
    "# image_input: the test image being fed into the network to produce the feature maps\n",
    "# tf_activation: should be a tf variable name used during your training procedure that represents the calculated state of a specific weight layer\n",
    "# activation_min/max: can be used to view the activation contrast in more detail, by default matplot sets min and max to the actual min and max values of the output\n",
    "# plt_num: used to plot out multiple different weight feature map sets on the same block, just extend the plt number for each new feature map entry\n",
    "\n",
    "def outputFeatureMap(image_input, tf_activation, activation_min=-1, activation_max=-1 ,plt_num=1):\n",
    "    # Here make sure to preprocess your image_input in a way your network expects\n",
    "    # with size, normalization, ect if needed\n",
    "    # image_input =\n",
    "    # Note: x should be the same name as your network's tensorflow data placeholder variable\n",
    "    # If you get an error tf_activation is not defined it may be having trouble accessing the variable from inside a function\n",
    "    activation = tf_activation.eval(session=sess,feed_dict={x : image_input})\n",
    "    featuremaps = activation.shape[3]\n",
    "    plt.figure(plt_num, figsize=(15,15))\n",
    "    for featuremap in range(featuremaps):\n",
    "        plt.subplot(6,8, featuremap+1) # sets the number of feature maps to show on each row and column\n",
    "        plt.title('FeatureMap ' + str(featuremap)) # displays the feature map number\n",
    "        if activation_min != -1 & activation_max != -1:\n",
    "            plt.imshow(activation[0,:,:, featuremap], interpolation=\"nearest\", vmin =activation_min, vmax=activation_max, cmap=\"gray\")\n",
    "        elif activation_max != -1:\n",
    "            plt.imshow(activation[0,:,:, featuremap], interpolation=\"nearest\", vmax=activation_max, cmap=\"gray\")\n",
    "        elif activation_min !=-1:\n",
    "            plt.imshow(activation[0,:,:, featuremap], interpolation=\"nearest\", vmin=activation_min, cmap=\"gray\")\n",
    "        else:\n",
    "            plt.imshow(activation[0,:,:, featuremap], interpolation=\"nearest\", cmap=\"gray\")"
   ]
  }
 ],
 "metadata": {
  "anaconda-cloud": {},
  "kernelspec": {
   "display_name": "Python 3",
   "language": "python",
   "name": "python3"
  },
  "language_info": {
   "codemirror_mode": {
    "name": "ipython",
    "version": 3
   },
   "file_extension": ".py",
   "mimetype": "text/x-python",
   "name": "python",
   "nbconvert_exporter": "python",
   "pygments_lexer": "ipython3",
   "version": "3.5.2"
  },
  "widgets": {
   "state": {},
   "version": "1.1.2"
  }
 },
 "nbformat": 4,
 "nbformat_minor": 1
}
